{
 "metadata": {
  "name": ""
 },
 "nbformat": 3,
 "nbformat_minor": 0,
 "worksheets": [
  {
   "cells": [
    {
     "cell_type": "code",
     "collapsed": false,
     "input": [
      "#useful things\n",
      "from heapq import *"
     ],
     "language": "python",
     "metadata": {},
     "outputs": [],
     "prompt_number": 40
    },
    {
     "cell_type": "code",
     "collapsed": false,
     "input": [
      "#if need be we rebalance the heaps so they are close to even\n",
      "def balance(minheap,maxheap):\n",
      "    diff=len(minheap)-len(maxheap)\n",
      "    #if minheap is two elements or more larger than max heap\n",
      "    #pluck out its max value and push it in minheap\n",
      "    if diff >=2:\n",
      "        heappush(maxheap,-heappop(minheap))\n",
      "        return (minheap,maxheap)\n",
      "    #if maxheap is two elements or more larger than minheap\n",
      "    #pluck out its min value and push it in maxheap\n",
      "    elif diff <=-2: \n",
      "        heappush(minheap,-heappop(maxheap))\n",
      "        return (minheap,maxheap)\n",
      "    else:\n",
      "        return (minheap,maxheap)\n"
     ],
     "language": "python",
     "metadata": {},
     "outputs": [],
     "prompt_number": 41
    },
    {
     "cell_type": "code",
     "collapsed": false,
     "input": [
      "def pushnext(minheap,maxheap,new):\n",
      "    low=-minheap[0]\n",
      "    high=maxheap[0]\n",
      "    if new >= low:\n",
      "        return 'append maxheap'\n",
      "    else:\n",
      "        return 'append minheap'"
     ],
     "language": "python",
     "metadata": {},
     "outputs": [],
     "prompt_number": 42
    },
    {
     "cell_type": "code",
     "collapsed": false,
     "input": [
      "with open('medRoos') as f:\n",
      "    intlist=f.readlines()\n",
      "\n",
      "intlist=[int(i.strip()) for i in intlist]"
     ],
     "language": "python",
     "metadata": {},
     "outputs": [],
     "prompt_number": 43
    },
    {
     "cell_type": "code",
     "collapsed": false,
     "input": [
      "#initialize first elements in minheap and maxheap\n",
      "\n",
      "minheap=[]\n",
      "maxheap=[]\n",
      "medians=[]\n",
      "\n",
      "medians.append(intlist[0])\n",
      "\n",
      "if intlist[0] > intlist[1]:\n",
      "    heappush(maxheap,intlist[0])\n",
      "    heappush(minheap,-intlist[1])\n",
      "    medians.append(intlist[1])\n",
      "else:\n",
      "    heappush(maxheap,intlist[1])\n",
      "    heappush(minheap,-intlist[0])\n",
      "    medians.append(intlist[0])"
     ],
     "language": "python",
     "metadata": {},
     "outputs": [],
     "prompt_number": 44
    },
    {
     "cell_type": "code",
     "collapsed": false,
     "input": [
      "medians"
     ],
     "language": "python",
     "metadata": {},
     "outputs": [
      {
       "metadata": {},
       "output_type": "pyout",
       "prompt_number": 45,
       "text": [
        "[10, 1]"
       ]
      }
     ],
     "prompt_number": 45
    },
    {
     "cell_type": "code",
     "collapsed": false,
     "input": [
      "for i in xrange(2,len(intlist)):\n",
      "    new=intlist[i]\n",
      "    whosnext=pushnext(minheap,maxheap,new)\n",
      "    if whosnext == 'append maxheap':\n",
      "        heappush(maxheap,new)\n",
      "    else:\n",
      "        heappush(minheap,-new)\n",
      "    minheap,maxheap=balance(minheap,maxheap)\n",
      "    lenminheap=len(minheap)\n",
      "    lenmaxheap=len(maxheap)\n",
      "    if lenminheap == lenmaxheap or lenminheap > lenmaxheap:\n",
      "        print \"k = %s minheap = %s maxheap = %s median = %s\" %(i+1,minheap,maxheap,-minheap[0])\n",
      "        medians.append(-minheap[0])\n",
      "    else:\n",
      "        print \"k = %s minheap = %s maxheap = %s median = %s\" %(i+1,minheap,maxheap,maxheap[0])\n",
      "        medians.append(maxheap[0])"
     ],
     "language": "python",
     "metadata": {},
     "outputs": [
      {
       "output_type": "stream",
       "stream": "stdout",
       "text": [
        "k = 3 minheap = [-1] maxheap = [9, 10] median = 9\n",
        "k = 4 minheap = [-2, -1] maxheap = [9, 10] median = 2\n",
        "k = 5 minheap = [-2, -1] maxheap = [8, 10, 9] median = 8\n",
        "k = 6 minheap = [-3, -1, -2] maxheap = [8, 10, 9] median = 3\n",
        "k = 7 minheap = [-3, -1, -2] maxheap = [7, 8, 9, 10] median = 7\n",
        "k = 8 minheap = [-4, -3, -2, -1] maxheap = [7, 8, 9, 10] median = 4\n",
        "k = 9 minheap = [-4, -3, -2, -1] maxheap = [6, 7, 9, 10, 8] median = 6\n",
        "k = 10 minheap = [-5, -4, -2, -1, -3] maxheap = [6, 7, 9, 10, 8] median = 5\n"
       ]
      }
     ],
     "prompt_number": 46
    },
    {
     "cell_type": "code",
     "collapsed": false,
     "input": [
      "maxheap"
     ],
     "language": "python",
     "metadata": {},
     "outputs": []
    },
    {
     "cell_type": "code",
     "collapsed": false,
     "input": [
      "minheap"
     ],
     "language": "python",
     "metadata": {},
     "outputs": []
    },
    {
     "cell_type": "code",
     "collapsed": false,
     "input": [
      "intlist"
     ],
     "language": "python",
     "metadata": {},
     "outputs": []
    },
    {
     "cell_type": "code",
     "collapsed": false,
     "input": [
      "sum(medians)"
     ],
     "language": "python",
     "metadata": {},
     "outputs": [
      {
       "metadata": {},
       "output_type": "pyout",
       "prompt_number": 47,
       "text": [
        "55"
       ]
      }
     ],
     "prompt_number": 47
    },
    {
     "cell_type": "code",
     "collapsed": false,
     "input": [
      "medians"
     ],
     "language": "python",
     "metadata": {},
     "outputs": [
      {
       "metadata": {},
       "output_type": "pyout",
       "prompt_number": 48,
       "text": [
        "[10, 1, 9, 2, 8, 3, 7, 4, 6, 5]"
       ]
      }
     ],
     "prompt_number": 48
    },
    {
     "cell_type": "code",
     "collapsed": false,
     "input": [],
     "language": "python",
     "metadata": {},
     "outputs": []
    }
   ],
   "metadata": {}
  }
 ]
}