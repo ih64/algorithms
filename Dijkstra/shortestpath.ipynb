{
 "metadata": {
  "name": ""
 },
 "nbformat": 3,
 "nbformat_minor": 0,
 "worksheets": [
  {
   "cells": [
    {
     "cell_type": "code",
     "collapsed": false,
     "input": [
      "import numpy as np"
     ],
     "language": "python",
     "metadata": {},
     "outputs": [],
     "prompt_number": 1
    },
    {
     "cell_type": "code",
     "collapsed": false,
     "input": [
      "#read in the input file\n",
      "with open('test','r') as f:\n",
      "    filetext=f.read().splitlines()"
     ],
     "language": "python",
     "metadata": {},
     "outputs": [],
     "prompt_number": 2
    },
    {
     "cell_type": "code",
     "collapsed": false,
     "input": [
      "#clean up the data and restructure it\n",
      "#pairs is a dictionary. Every node is a key\n",
      "#the values are lists that have the node number, a second node that forms an  with it edge, and the edge weight\n",
      "pairs={}\n",
      "for row in filetext:\n",
      "    cleanrow=row.split()\n",
      "    pairs[int(cleanrow[0])]=[]\n",
      "    for i in range(1,len(cleanrow)):\n",
      "        tail,weight=cleanrow[i].split(',')\n",
      "        pairs[int(cleanrow[0])].append((int(cleanrow[0]),int(tail),int(weight)))"
     ],
     "language": "python",
     "metadata": {},
     "outputs": [],
     "prompt_number": 3
    },
    {
     "cell_type": "code",
     "collapsed": false,
     "input": [
      "#turn all the lists into numpy arrays.\n",
      "for i in pairs:\n",
      "    pairs[i]=np.array(pairs[i])"
     ],
     "language": "python",
     "metadata": {},
     "outputs": [],
     "prompt_number": 4
    },
    {
     "cell_type": "code",
     "collapsed": false,
     "input": [
      "#initialize our housekeeping variables. \n",
      "#X is a list that has the conqured nodes\n",
      "#A is a dict, each key is a node, and the value is the distance to that node\n",
      "#The source node is node 1, and the path length to it is the empty path\n",
      "X=[1]\n",
      "A={}\n",
      "A[1]=0"
     ],
     "language": "python",
     "metadata": {},
     "outputs": [],
     "prompt_number": 5
    },
    {
     "cell_type": "code",
     "collapsed": false,
     "input": [
      "#find the edges that have one node in X, and one node not in X\n",
      "#first list all the [nodestart,nodeend, edgelength] for all the nodes in X\n",
      "#stack them into a numpy array\n",
      "#then iterate over the stacked array and only select edges if they have an end that is not in X\n",
      "#this is basically a double for loop, and why this algorithm is O(nm)\n",
      "crossing=np.array([j for j in np.vstack([pairs[i] for i in X]) if j[1] not in X])"
     ],
     "language": "python",
     "metadata": {},
     "outputs": [],
     "prompt_number": 6
    },
    {
     "cell_type": "code",
     "collapsed": false,
     "input": [
      "crossing"
     ],
     "language": "python",
     "metadata": {},
     "outputs": [
      {
       "metadata": {},
       "output_type": "pyout",
       "prompt_number": 7,
       "text": [
        "array([[1, 2, 3],\n",
        "       [1, 3, 3]])"
       ]
      }
     ],
     "prompt_number": 7
    },
    {
     "cell_type": "code",
     "collapsed": false,
     "input": [
      "crossingTotDist=np.hstack((crossing,np.vstack([A[i[0]] + i[2] for i in crossing])))"
     ],
     "language": "python",
     "metadata": {},
     "outputs": [],
     "prompt_number": 23
    },
    {
     "cell_type": "code",
     "collapsed": false,
     "input": [
      "crossingTotDist"
     ],
     "language": "python",
     "metadata": {},
     "outputs": [
      {
       "metadata": {},
       "output_type": "pyout",
       "prompt_number": 24,
       "text": [
        "array([[ 2,  4,  2,  5],\n",
        "       [ 3,  4, 50, 53]])"
       ]
      }
     ],
     "prompt_number": 24
    },
    {
     "cell_type": "code",
     "collapsed": false,
     "input": [
      "#find the smallest length of these, then extract its node which is in X, node outside of X, and edge legth\n",
      "#conqnode, newnode, length=crossing[crossing[:,2].argmin()]\n",
      "conqnode, newnode, length, distance=crossingTotDist[crossingTotDist[:,3].argmin()]"
     ],
     "language": "python",
     "metadata": {},
     "outputs": [],
     "prompt_number": 25
    },
    {
     "cell_type": "code",
     "collapsed": false,
     "input": [
      "#the path length to the new node is the lenght to the node in X which shares an edge with it, plus the edge length\n",
      "#Dijkstra's greedy formula, from the lectures\n",
      "A[newnode]=distance\n",
      "#the new node is now in our explored territory\n",
      "X.append(newnode)"
     ],
     "language": "python",
     "metadata": {},
     "outputs": [],
     "prompt_number": 26
    },
    {
     "cell_type": "code",
     "collapsed": false,
     "input": [
      "X"
     ],
     "language": "python",
     "metadata": {},
     "outputs": [
      {
       "metadata": {},
       "output_type": "pyout",
       "prompt_number": 27,
       "text": [
        "[1, 2, 3, 4]"
       ]
      }
     ],
     "prompt_number": 27
    },
    {
     "cell_type": "code",
     "collapsed": false,
     "input": [
      "A"
     ],
     "language": "python",
     "metadata": {},
     "outputs": [
      {
       "metadata": {},
       "output_type": "pyout",
       "prompt_number": 28,
       "text": [
        "{1: 0, 2: 3, 3: 3, 4: 5}"
       ]
      }
     ],
     "prompt_number": 28
    },
    {
     "cell_type": "code",
     "collapsed": false,
     "input": [
      "crossing=np.array([j for j in np.vstack([pairs[i] for i in X]) if j[1] not in X])"
     ],
     "language": "python",
     "metadata": {},
     "outputs": [],
     "prompt_number": 21
    },
    {
     "cell_type": "code",
     "collapsed": false,
     "input": [
      "crossing"
     ],
     "language": "python",
     "metadata": {},
     "outputs": [
      {
       "metadata": {},
       "output_type": "pyout",
       "prompt_number": 22,
       "text": [
        "array([[ 2,  4,  2],\n",
        "       [ 3,  4, 50]])"
       ]
      }
     ],
     "prompt_number": 22
    },
    {
     "cell_type": "code",
     "collapsed": false,
     "input": [
      "a=np.vstack([pairs[i] for i in X])"
     ],
     "language": "python",
     "metadata": {},
     "outputs": []
    },
    {
     "cell_type": "code",
     "collapsed": false,
     "input": [
      "np.array([j[1] for j in a if j[0] not in X]).min()"
     ],
     "language": "python",
     "metadata": {},
     "outputs": []
    },
    {
     "cell_type": "code",
     "collapsed": false,
     "input": [
      "pairsArr=np.array(pairs)\n",
      "sparseMatrix=pairsArr[np.where(pairsArr[:,0] <= pairsArr[:,1])]\n",
      "territory=np.zeros(200)"
     ],
     "language": "python",
     "metadata": {},
     "outputs": []
    },
    {
     "cell_type": "code",
     "collapsed": false,
     "input": [
      "X=[1,2]"
     ],
     "language": "python",
     "metadata": {},
     "outputs": []
    },
    {
     "cell_type": "code",
     "collapsed": false,
     "input": [],
     "language": "python",
     "metadata": {},
     "outputs": []
    },
    {
     "cell_type": "code",
     "collapsed": false,
     "input": [
      "np.vstack([sparseMatrix[np.where((sparseMatrix[:,0] == i)|(sparseMatrix[:,1]== i))] for i in X])"
     ],
     "language": "python",
     "metadata": {},
     "outputs": []
    },
    {
     "cell_type": "raw",
     "metadata": {},
     "source": [
      "below here is scratch space"
     ]
    },
    {
     "cell_type": "code",
     "collapsed": false,
     "input": [
      "print filetext.splitlines()[0].split()"
     ],
     "language": "python",
     "metadata": {},
     "outputs": []
    },
    {
     "cell_type": "code",
     "collapsed": false,
     "input": [
      "for i in range(1,len(filetext.splitlines()[0].split())):\n",
      "        tail,weigh=filetext.splitlines()[0].split()[i].split(',')\n",
      "        print '1,'+tail+','+weigh"
     ],
     "language": "python",
     "metadata": {},
     "outputs": []
    },
    {
     "cell_type": "code",
     "collapsed": false,
     "input": [],
     "language": "python",
     "metadata": {},
     "outputs": []
    }
   ],
   "metadata": {}
  }
 ]
}