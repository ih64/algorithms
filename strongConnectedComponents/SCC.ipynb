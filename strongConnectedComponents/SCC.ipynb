{
 "metadata": {
  "name": ""
 },
 "nbformat": 3,
 "nbformat_minor": 0,
 "worksheets": [
  {
   "cells": [
    {
     "cell_type": "code",
     "collapsed": false,
     "input": [
      "import sys\n",
      "sys.setrecursionlimit(1000000)"
     ],
     "language": "python",
     "metadata": {},
     "outputs": [],
     "prompt_number": 2
    },
    {
     "cell_type": "code",
     "collapsed": false,
     "input": [
      "graph = {}\n",
      "revgraph = {}\n",
      "with open('SCC.txt') as fhand:\n",
      "    for i in range(1,875715):\n",
      "        graph[i] = []\n",
      "        revgraph[i] = []\n",
      "    for line in fhand:\n",
      "        tmp_list = [int(s) for s in line.split()]\n",
      "        #print tmp_list[0]\n",
      "        graph[tmp_list[0]].append(tmp_list[1])\n",
      "        revgraph[tmp_list[1]].append(tmp_list[0])"
     ],
     "language": "python",
     "metadata": {},
     "outputs": [],
     "prompt_number": 3
    },
    {
     "cell_type": "code",
     "collapsed": false,
     "input": [
      "#holds globals\n",
      "t=0\n",
      "finishTime={}\n",
      "leader={}\n",
      "queue=[]\n",
      "s='Null'"
     ],
     "language": "python",
     "metadata": {},
     "outputs": [],
     "prompt_number": 4
    },
    {
     "cell_type": "code",
     "collapsed": false,
     "input": [
      "def dfsLoopFirst(graph):\n",
      "    onoff={}\n",
      "    #finishTime={}\n",
      "    nodes=range(1,875715)\n",
      "\n",
      "    for i in nodes:\n",
      "        onoff[i]=0\n",
      "    \n",
      "    for i in nodes[::-1]:\n",
      "        if onoff[i]==0:\n",
      "            depthSearch(graph,i,onoff,direction='backward')\n",
      "    return"
     ],
     "language": "python",
     "metadata": {},
     "outputs": [],
     "prompt_number": 5
    },
    {
     "cell_type": "code",
     "collapsed": false,
     "input": [
      "#depth first search algorithm\n",
      "#agressively search down graph\n",
      "#recurse on child nodes that are not yet discoverd\n",
      "#takes graph, node to start, onoff is a logical dict which tells us which nodes are discovered\n",
      "def depthSearch(graph, node, onoff, direction='forward'):\n",
      "    global t\n",
      "    global finishTime\n",
      "    global s\n",
      "    global leader\n",
      "    global queue\n",
      "    onoff[node]=1\n",
      "    if direction=='forward':\n",
      "        leader[finishTime[node]]=finishTime[s]\n",
      "    #print \"discovered node \"+str(node)\n",
      "    if direction=='forward':\n",
      "        childNodes=graph[node]\n",
      "    elif direction=='backward':\n",
      "        childNodes=revgraph[node]\n",
      "    #print \"now node \"+str(node)+\" children :\"+str(childNodes)\n",
      "    for child in childNodes:\n",
      "        if onoff[child]==0:\n",
      "            depthSearch(graph,child,onoff,direction=direction)\n",
      "    if direction=='backward':\n",
      "        t+=1\n",
      "        finishTime[node]=t\n",
      "        queue.append(node)\n",
      "    return"
     ],
     "language": "python",
     "metadata": {},
     "outputs": [],
     "prompt_number": 6
    },
    {
     "cell_type": "code",
     "collapsed": false,
     "input": [
      "def dfsLoopSecond(graph):\n",
      "    global s\n",
      "    onoff={}\n",
      "    #finishTime={}\n",
      "    \n",
      "    #nodes = queue.reverse()\n",
      "    \n",
      "    for i in reversed(queue):\n",
      "        onoff[i]=0\n",
      "    \n",
      "    for i in reversed(queue):\n",
      "        if onoff[i]==0:\n",
      "            s=i\n",
      "            depthSearch(graph,i,onoff,direction='forward')\n",
      "    return"
     ],
     "language": "python",
     "metadata": {},
     "outputs": [],
     "prompt_number": 7
    },
    {
     "cell_type": "code",
     "collapsed": false,
     "input": [
      "dfsLoopFirst(graph)"
     ],
     "language": "python",
     "metadata": {},
     "outputs": [],
     "prompt_number": "*"
    },
    {
     "cell_type": "code",
     "collapsed": false,
     "input": [
      "dfsLoopSecond(revgraph)"
     ],
     "language": "python",
     "metadata": {},
     "outputs": []
    },
    {
     "cell_type": "code",
     "collapsed": false,
     "input": [
      "leader"
     ],
     "language": "python",
     "metadata": {},
     "outputs": []
    }
   ],
   "metadata": {}
  }
 ]
}