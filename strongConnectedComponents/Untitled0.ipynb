{
 "metadata": {
  "name": ""
 },
 "nbformat": 3,
 "nbformat_minor": 0,
 "worksheets": [
  {
   "cells": [
    {
     "cell_type": "code",
     "collapsed": false,
     "input": [
      "import sys\n",
      "sys.setrecursionlimit(1000000)\n",
      "import thread\n",
      "\n",
      "t=0\n",
      "finishTime={}\n",
      "leader={}\n",
      "queue=[]\n",
      "s='Null'\n",
      "\n",
      "\n",
      "def dfsLoopFirst(graph):\n",
      "    onoff={}\n",
      "    #finishTime={}\n",
      "    nodes=range(1,10)\n",
      "\n",
      "    for i in nodes:\n",
      "        onoff[i]=0\n",
      "    \n",
      "    for i in nodes[::-1]:\n",
      "        if onoff[i]==0:\n",
      "            depthSearch(graph,i,onoff,direction='backward')\n",
      "    return\n",
      "\n",
      "\n",
      "def depthSearch(graph, node, onoff, direction='forward'):\n",
      "    global t\n",
      "    global finishTime\n",
      "    global s\n",
      "    global leader\n",
      "    global queue\n",
      "    onoff[node]=1\n",
      "    if direction=='forward':\n",
      "        leader[finishTime[node]]=finishTime[s]\n",
      "    #print \"discovered node \"+str(node)\n",
      "    if direction=='forward':\n",
      "        childNodes=graph[node]\n",
      "    elif direction=='backward':\n",
      "        childNodes=graph[node]\n",
      "    print \"now node \"+str(node)+\" children :\"+str(childNodes)\n",
      "    for child in childNodes:\n",
      "        if onoff[child]==0:\n",
      "            depthSearch(graph,child,onoff,direction=direction)\n",
      "    if direction=='backward':\n",
      "        t+=1\n",
      "        finishTime[node]=t\n",
      "        queue.append(node)\n",
      "    return\n",
      "\n",
      "\n",
      "def dfsLoopSecond(graph):\n",
      "    global s\n",
      "    onoff={}\n",
      "    #finishTime={}\n",
      "    \n",
      "    #nodes = queue.reverse()\n",
      "    \n",
      "    for i in reversed(queue):\n",
      "        onoff[i]=0\n",
      "    \n",
      "    for i in reversed(queue):\n",
      "        if onoff[i]==0:\n",
      "            s=i\n",
      "            depthSearch(graph,i,onoff,direction='forward')\n",
      "    return\n",
      "\n",
      "def allTogether():\n",
      "\tgraph = {}\n",
      "\trevgraph = {}\n",
      "\twith open('videotest.txt') as fhand:\n",
      "\t    for i in range(1,10):\n",
      "\t        graph[i] = []\n",
      "\t        revgraph[i] = []\n",
      "\t    for line in fhand:\n",
      "\t        tmp_list = [int(num) for num in line.split()]\n",
      "\t        #print tmp_list[0]\n",
      "\t        graph[tmp_list[0]].append(tmp_list[1])\n",
      "\t        revgraph[tmp_list[1]].append(tmp_list[0])\n",
      "\n",
      "\tdfsLoopFirst(revgraph)\n",
      "\tdfsLoopSecond(graph)\n",
      "\treturn leader"
     ],
     "language": "python",
     "metadata": {},
     "outputs": [],
     "prompt_number": 11
    },
    {
     "cell_type": "code",
     "collapsed": false,
     "input": [
      "allTogether()"
     ],
     "language": "python",
     "metadata": {},
     "outputs": [
      {
       "output_type": "stream",
       "stream": "stdout",
       "text": [
        "now node 9 children :[6]\n",
        "now node 6 children :[3, 8]\n",
        "now node 3 children :[9]\n",
        "now node 8 children :[2]\n",
        "now node 2 children :[5]\n",
        "now node 5 children :[8]\n",
        "now node 7 children :[4, 9]\n",
        "now node 4 children :[1]\n",
        "now node 1 children :[7]\n",
        "now node 7 children :[1]\n",
        "now node 1 children :[4]\n",
        "now node 4 children :[7]\n",
        "now node 9 children :[7, 3]\n",
        "now node 3 children :[6]\n",
        "now node 6 children :[9]\n",
        "now node 8 children :[5, 6]\n",
        "now node 5 children :[2]\n",
        "now node 2 children :[8]\n"
       ]
      },
      {
       "metadata": {},
       "output_type": "pyout",
       "prompt_number": 12,
       "text": [
        "{1: 6, 2: 4, 3: 4, 4: 4, 5: 6, 6: 6, 7: 9, 8: 9, 9: 9}"
       ]
      }
     ],
     "prompt_number": 12
    },
    {
     "cell_type": "code",
     "collapsed": false,
     "input": [
      "queue"
     ],
     "language": "python",
     "metadata": {},
     "outputs": [
      {
       "metadata": {},
       "output_type": "pyout",
       "prompt_number": 3,
       "text": [
        "[4, 1, 7, 6, 3, 9, 2, 5, 8]"
       ]
      }
     ],
     "prompt_number": 3
    },
    {
     "cell_type": "code",
     "collapsed": false,
     "input": [
      "finishTime"
     ],
     "language": "python",
     "metadata": {},
     "outputs": [
      {
       "metadata": {},
       "output_type": "pyout",
       "prompt_number": 5,
       "text": [
        "{1: 2, 2: 7, 3: 5, 4: 1, 5: 8, 6: 4, 7: 3, 8: 9, 9: 6}"
       ]
      }
     ],
     "prompt_number": 5
    },
    {
     "cell_type": "code",
     "collapsed": false,
     "input": [
      "\tgraph = {}\n",
      "\trevgraph = {}\n",
      "\twith open('videotest.txt') as fhand:\n",
      "\t    for i in range(1,10):\n",
      "\t        graph[i] = []\n",
      "\t        revgraph[i] = []\n",
      "\t    for line in fhand:\n",
      "\t        tmp_list = [int(num) for num in line.split()]\n",
      "\t        #print tmp_list[0]\n",
      "\t        graph[tmp_list[0]].append(tmp_list[1])\n",
      "\t        revgraph[tmp_list[1]].append(tmp_list[0])"
     ],
     "language": "python",
     "metadata": {},
     "outputs": [],
     "prompt_number": 7
    },
    {
     "cell_type": "code",
     "collapsed": false,
     "input": [
      "graph"
     ],
     "language": "python",
     "metadata": {},
     "outputs": [
      {
       "metadata": {},
       "output_type": "pyout",
       "prompt_number": 8,
       "text": [
        "{1: [4], 2: [8], 3: [6], 4: [7], 5: [2], 6: [9], 7: [1], 8: [5, 6], 9: [7, 3]}"
       ]
      }
     ],
     "prompt_number": 8
    },
    {
     "cell_type": "code",
     "collapsed": false,
     "input": [],
     "language": "python",
     "metadata": {},
     "outputs": []
    }
   ],
   "metadata": {}
  }
 ]
}