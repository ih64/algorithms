{
 "metadata": {
  "name": ""
 },
 "nbformat": 3,
 "nbformat_minor": 0,
 "worksheets": [
  {
   "cells": [
    {
     "cell_type": "code",
     "collapsed": false,
     "input": [
      "#useful things\n",
      "import numpy as np"
     ],
     "language": "python",
     "metadata": {},
     "outputs": [],
     "prompt_number": 85
    },
    {
     "cell_type": "code",
     "collapsed": false,
     "input": [
      "#read in text file\n",
      "array=np.loadtxt('2sum.txt')\n",
      "#sort the array\n",
      "array.sort()"
     ],
     "language": "python",
     "metadata": {},
     "outputs": [],
     "prompt_number": 106
    },
    {
     "cell_type": "code",
     "collapsed": false,
     "input": [
      "#keep unique values only\n",
      "uniqarray=np.unique(array).tolist()\n",
      "#store the uniqe sums in a hash table\n",
      "uniqsum={}"
     ],
     "language": "python",
     "metadata": {},
     "outputs": [],
     "prompt_number": 110
    },
    {
     "cell_type": "code",
     "collapsed": false,
     "input": [
      "for j in xrange(0,len(uniqarray)):\n",
      "    if j%10000==0:\n",
      "        print j\n",
      "    x=uniqarray[j]\n",
      "    ymax= 10000-x\n",
      "    ymin=-10000-x\n",
      "    #print(\" x is \"+str(x))\n",
      "    i=len(uniqarray)-1\n",
      "    #print(i)\n",
      "    y=uniqarray[i]\n",
      "    while y >= ymin:\n",
      "        #print(\" x =\"+str(x)+\" y=\"+str(y)+\" ymax =\"+str(ymax)+\" ymin is \"+str(ymin))\n",
      "        #if highpoint's element is too big, move it over left one\n",
      "        if y > ymax:\n",
      "            i-=1\n",
      "            #print \"if tripped\"\n",
      "        else:\n",
      "            uniqsum[x+y]=1\n",
      "            i-=1\n",
      "        y=uniqarray[i]\n",
      "\n",
      "        \n",
      "\n",
      "    "
     ],
     "language": "python",
     "metadata": {},
     "outputs": [
      {
       "output_type": "stream",
       "stream": "stdout",
       "text": [
        "0\n",
        "10000"
       ]
      }
     ],
     "prompt_number": "*"
    },
    {
     "cell_type": "code",
     "collapsed": false,
     "input": [],
     "language": "python",
     "metadata": {},
     "outputs": [
      {
       "metadata": {},
       "output_type": "pyout",
       "prompt_number": 100,
       "text": [
        "{-9141.0: 1, -8433.0: 1, -130.0: 1, 3864.0: 1, 7297.0: 1, 8319.0: 1}"
       ]
      }
     ],
     "prompt_number": 100
    },
    {
     "cell_type": "code",
     "collapsed": false,
     "input": [
      "x=uniqarray[-1]\n",
      "if x > 0:\n",
      "    ymax=1000-x\n",
      "    ymin=-1000-x\n",
      "else:\n",
      "    ymax= 1000-x\n",
      "    ymin= -1000-x\n",
      "print(ymax)\n",
      "print(ymin)"
     ],
     "language": "python",
     "metadata": {},
     "outputs": [
      {
       "output_type": "stream",
       "stream": "stdout",
       "text": [
        "-8273315.0\n",
        "-8275315.0\n"
       ]
      }
     ],
     "prompt_number": 79
    },
    {
     "cell_type": "code",
     "collapsed": false,
     "input": [
      "x+ymax"
     ],
     "language": "python",
     "metadata": {},
     "outputs": [
      {
       "metadata": {},
       "output_type": "pyout",
       "prompt_number": 81,
       "text": [
        "1000.0"
       ]
      }
     ],
     "prompt_number": 81
    },
    {
     "cell_type": "code",
     "collapsed": false,
     "input": [
      "1000 - x"
     ],
     "language": "python",
     "metadata": {},
     "outputs": [
      {
       "metadata": {},
       "output_type": "pyout",
       "prompt_number": 73,
       "text": [
        "8254218.0"
       ]
      }
     ],
     "prompt_number": 73
    },
    {
     "cell_type": "code",
     "collapsed": false,
     "input": [
      "uniqsum"
     ],
     "language": "python",
     "metadata": {},
     "outputs": [
      {
       "metadata": {},
       "output_type": "pyout",
       "prompt_number": 84,
       "text": [
        "{-130.0: 1}"
       ]
      }
     ],
     "prompt_number": 84
    },
    {
     "cell_type": "code",
     "collapsed": false,
     "input": [
      "sumar=uniqarray.reshape(-1,1)+uniqarray.reshape(1,-1)"
     ],
     "language": "python",
     "metadata": {},
     "outputs": [],
     "prompt_number": 96
    },
    {
     "cell_type": "code",
     "collapsed": false,
     "input": [
      "sumar[(sumar < 1000) & (sumar > -1000)]"
     ],
     "language": "python",
     "metadata": {},
     "outputs": [
      {
       "metadata": {},
       "output_type": "pyout",
       "prompt_number": 98,
       "text": [
        "array([-130., -130.])"
       ]
      }
     ],
     "prompt_number": 98
    },
    {
     "cell_type": "code",
     "collapsed": false,
     "input": [
      "uniqarray.shape"
     ],
     "language": "python",
     "metadata": {},
     "outputs": [
      {
       "metadata": {},
       "output_type": "pyout",
       "prompt_number": 103,
       "text": [
        "(100,)"
       ]
      }
     ],
     "prompt_number": 103
    },
    {
     "cell_type": "code",
     "collapsed": false,
     "input": [],
     "language": "python",
     "metadata": {},
     "outputs": []
    }
   ],
   "metadata": {}
  }
 ]
}