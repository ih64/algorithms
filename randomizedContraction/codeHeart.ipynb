{
 "metadata": {
  "name": ""
 },
 "nbformat": 3,
 "nbformat_minor": 0,
 "worksheets": [
  {
   "cells": [
    {
     "cell_type": "code",
     "collapsed": false,
     "input": [
      "#import libraries etc\n",
      "import numpy as np"
     ],
     "language": "python",
     "metadata": {},
     "outputs": [],
     "prompt_number": 1
    },
    {
     "cell_type": "code",
     "collapsed": false,
     "input": [
      "#read in the file and make a nested list with the data in it\n",
      "#the first element in each nested list represents the node number\n",
      "#ie graph[0][0] is eq to 1, graph[0][1] is eq to 2, etc\n",
      "with open('kargerMinCut.txt','r') as f:\n",
      "    filetxt=f.read().splitlines()\n",
      "graph=[[int(y) for y in x] for x in [i.strip().split() for i in filetxt]]"
     ],
     "language": "python",
     "metadata": {},
     "outputs": [],
     "prompt_number": 86
    },
    {
     "cell_type": "code",
     "collapsed": false,
     "input": [
      "pairs=[]\n",
      "for node in graph:\n",
      "    for i in range(1,len(node)):\n",
      "        pairs.append((node[0],node[i]))\n",
      "edges=np.array(pairs)\n",
      "#edges is an 2mX2 array that represents edges between the two nodes in the ijth pair"
     ],
     "language": "python",
     "metadata": {},
     "outputs": [],
     "prompt_number": 87
    },
    {
     "cell_type": "code",
     "collapsed": false,
     "input": [
      "edges.shape"
     ],
     "language": "python",
     "metadata": {},
     "outputs": [
      {
       "metadata": {},
       "output_type": "pyout",
       "prompt_number": 138,
       "text": [
        "(5027, 2)"
       ]
      }
     ],
     "prompt_number": 138
    },
    {
     "cell_type": "code",
     "collapsed": false,
     "input": [
      "#now we must pick an edge uniformly at random\n",
      "#to do this we only need to pick a row\n",
      "\n",
      "randPick=np.random.randint(low=0,high=edges.shape[0])\n",
      "nodeA,nodeB=edges[randPick]\n",
      "print(randPick,nodeA,nodeB)"
     ],
     "language": "python",
     "metadata": {},
     "outputs": [
      {
       "output_type": "stream",
       "stream": "stdout",
       "text": [
        "(5009, 200, 160)\n"
       ]
      }
     ],
     "prompt_number": 139
    },
    {
     "cell_type": "code",
     "collapsed": false,
     "input": [
      "#fuse nodeB into node A\n",
      "#making nodeBs edges join to A instead\n",
      "#everywhere we see nodeB, switch to nodeA\n",
      "edges[edges==nodeB]=nodeA"
     ],
     "language": "python",
     "metadata": {},
     "outputs": [],
     "prompt_number": 140
    },
    {
     "cell_type": "code",
     "collapsed": false,
     "input": [
      "#identify any self loops\n",
      "selfloop=np.where((edges[:,0]==nodeA) & (edges[:,1]==nodeA))"
     ],
     "language": "python",
     "metadata": {},
     "outputs": [],
     "prompt_number": 141
    },
    {
     "cell_type": "code",
     "collapsed": false,
     "input": [
      "selfloop"
     ],
     "language": "python",
     "metadata": {},
     "outputs": [
      {
       "metadata": {},
       "output_type": "pyout",
       "prompt_number": 142,
       "text": [
        "(array([3980, 5009]),)"
       ]
      }
     ],
     "prompt_number": 142
    },
    {
     "cell_type": "code",
     "collapsed": false,
     "input": [
      "edges[selfloop]"
     ],
     "language": "python",
     "metadata": {},
     "outputs": [
      {
       "metadata": {},
       "output_type": "pyout",
       "prompt_number": 143,
       "text": [
        "array([[200, 200],\n",
        "       [200, 200]])"
       ]
      }
     ],
     "prompt_number": 143
    },
    {
     "cell_type": "code",
     "collapsed": false,
     "input": [
      "#remove the self loops\n",
      "#this automatically will remove the edge we randomly selected\n",
      "edges=np.delete(edges,selfloop).reshape(-1,2)"
     ],
     "language": "python",
     "metadata": {},
     "outputs": [],
     "prompt_number": 144
    },
    {
     "cell_type": "raw",
     "metadata": {},
     "source": [
      "below is scratch code and cells"
     ]
    },
    {
     "cell_type": "code",
     "collapsed": false,
     "input": [
      "#GRAPH is a python dictionary. the keys are the nodes\n",
      "#the values are the other nodes that share an edge with the key node\n",
      "GRAPH={}\n",
      "for i in range(0,200):\n",
      "    tempArr=np.zeros(len(graph[i])-1)\n",
      "    for j in range(0,len(graph[i])-1):\n",
      "        tempArr[j]=graph[i][j+1]\n",
      "    GRAPH[i+1]=tempArr\n"
     ],
     "language": "python",
     "metadata": {},
     "outputs": [],
     "prompt_number": 3
    },
    {
     "cell_type": "code",
     "collapsed": false,
     "input": [
      "#pick an edge, uniformly at random, by its index\n",
      "#to do this, we will need a flattened version of the array\n",
      "#it will pay to flatten it once and remember it\n",
      "flatGraph=np.hstack([GRAPH[i] for i in GRAPH])\n",
      "edgeIndex=np.random.randint(low=0,high=len(flatGraph))\n",
      "edge=flatGraph[edgeIndex]"
     ],
     "language": "python",
     "metadata": {},
     "outputs": [],
     "prompt_number": 145
    },
    {
     "cell_type": "code",
     "collapsed": false,
     "input": [
      "#we have an edge and one end node, but we need to figure out what the other end node is\n",
      "np.where(flatGraph==edge)[0]"
     ],
     "language": "python",
     "metadata": {},
     "outputs": [
      {
       "metadata": {},
       "output_type": "pyout",
       "prompt_number": 148,
       "text": [
        "array([ 701,  731, 1042, 1331, 1450, 2051, 2231, 2344, 2593, 2691, 3064,\n",
        "       3211, 4208, 4265, 4426, 4502, 4569, 4617, 4661, 4764, 4891, 4954])"
       ]
      }
     ],
     "prompt_number": 148
    },
    {
     "cell_type": "code",
     "collapsed": false,
     "input": [
      "edgeIndex"
     ],
     "language": "python",
     "metadata": {},
     "outputs": [
      {
       "metadata": {},
       "output_type": "pyout",
       "prompt_number": 149,
       "text": [
        "4426"
       ]
      }
     ],
     "prompt_number": 149
    },
    {
     "cell_type": "code",
     "collapsed": false,
     "input": [
      "zeta=np.array([[1,1],[1,2],[1,3]])"
     ],
     "language": "python",
     "metadata": {},
     "outputs": [],
     "prompt_number": 34
    },
    {
     "cell_type": "code",
     "collapsed": false,
     "input": [
      "zeta[np.where(zeta==[1,1])]"
     ],
     "language": "python",
     "metadata": {},
     "outputs": [
      {
       "metadata": {},
       "output_type": "pyout",
       "prompt_number": 39,
       "text": [
        "array([1, 1, 1, 1])"
       ]
      }
     ],
     "prompt_number": 39
    },
    {
     "cell_type": "code",
     "collapsed": false,
     "input": [
      "np.where((zeta[:,0]==1) & (zeta[:,1]==2))"
     ],
     "language": "python",
     "metadata": {},
     "outputs": [
      {
       "metadata": {},
       "output_type": "pyout",
       "prompt_number": 44,
       "text": [
        "(array([1]),)"
       ]
      }
     ],
     "prompt_number": 44
    },
    {
     "cell_type": "code",
     "collapsed": false,
     "input": [
      "zeta[:,1]"
     ],
     "language": "python",
     "metadata": {},
     "outputs": [
      {
       "metadata": {},
       "output_type": "pyout",
       "prompt_number": 43,
       "text": [
        "array([1, 2, 3])"
       ]
      }
     ],
     "prompt_number": 43
    },
    {
     "cell_type": "code",
     "collapsed": false,
     "input": [
      "np.unique(edges).shape[0]"
     ],
     "language": "python",
     "metadata": {},
     "outputs": [
      {
       "metadata": {},
       "output_type": "pyout",
       "prompt_number": 64,
       "text": [
        "199"
       ]
      }
     ],
     "prompt_number": 64
    },
    {
     "cell_type": "code",
     "collapsed": false,
     "input": [
      "int(200**2*np.log(200))"
     ],
     "language": "python",
     "metadata": {},
     "outputs": [
      {
       "metadata": {},
       "output_type": "pyout",
       "prompt_number": 69,
       "text": [
        "211932"
       ]
      }
     ],
     "prompt_number": 69
    },
    {
     "cell_type": "code",
     "collapsed": false,
     "input": [],
     "language": "python",
     "metadata": {},
     "outputs": []
    }
   ],
   "metadata": {}
  }
 ]
}